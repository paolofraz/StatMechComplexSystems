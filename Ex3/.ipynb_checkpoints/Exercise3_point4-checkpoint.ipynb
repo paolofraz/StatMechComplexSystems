{
 "cells": [
  {
   "cell_type": "code",
   "execution_count": 1,
   "metadata": {
    "ExecuteTime": {
     "end_time": "2019-05-15T14:18:28.500291Z",
     "start_time": "2019-05-15T14:18:10.393175Z"
    }
   },
   "outputs": [],
   "source": [
    "import numpy as np\n",
    "import matplotlib.pyplot as plt\n",
    "import pandas as pd"
   ]
  },
  {
   "cell_type": "code",
   "execution_count": 2,
   "metadata": {
    "ExecuteTime": {
     "end_time": "2019-05-15T14:18:30.584148Z",
     "start_time": "2019-05-15T14:18:28.568071Z"
    }
   },
   "outputs": [],
   "source": [
    "df=pd.read_csv(\"bci05.csv\") #reading the file"
   ]
  },
  {
   "cell_type": "code",
   "execution_count": 3,
   "metadata": {
    "ExecuteTime": {
     "end_time": "2019-05-15T14:18:31.451938Z",
     "start_time": "2019-05-15T14:18:31.026965Z"
    }
   },
   "outputs": [],
   "source": [
    "df=df.loc[df.status==\"A\"] #selecting only the species present\n",
    "speci=pd.unique(df[\"sp\"]) #vector of all speices namE"
   ]
  },
  {
   "cell_type": "code",
   "execution_count": 84,
   "metadata": {},
   "outputs": [],
   "source": [
    "x=df[\"gx\"]                #dividing in 800 subplot\n",
    "y=df[\"gy\"]\n",
    "df['subplot']=((x//25)+1)+(((y//25))*40)"
   ]
  },
  {
   "cell_type": "code",
   "execution_count": 85,
   "metadata": {},
   "outputs": [
    {
     "name": "stdout",
     "output_type": "stream",
     "text": [
      "           tag      sp     gx     gy    dbh  pom    date codes status  subplot\n",
      "0       105951  ACACME  610.0  104.7  119.0    1  8924.0     M      A    185.0\n",
      "1       132160  ACACME  534.8  241.3  116.0    1  8922.0     *      A    382.0\n",
      "4       191542  ACACME  282.7  177.5   75.0    1  8825.0     *      A    292.0\n",
      "5       269064  ACACME   84.2   74.8   21.0    1  8783.0     *      A     84.0\n",
      "6       272540  ACACME  149.9  389.8   20.0    1  8833.0     *      A    606.0\n",
      "7       422989  ACACME  450.8  216.8   21.0    1  8890.0     *      A    339.0\n",
      "8       430127  ACACME  606.4  105.6   43.0    1  8924.0     *      A    185.0\n",
      "9       430131  ACACME  606.1  103.1   26.0    1  8924.0     *      A    185.0\n",
      "10      430132  ACACME  606.3  102.4   59.0    1  8924.0     *      A    185.0\n",
      "11      530056  ACACME  612.6  107.6   51.0    1  8924.0     *      A    185.0\n",
      "12      707243  ACACME  141.4  190.1   25.0    1  8826.0     *      A    286.0\n",
      "13      718100  ACACME  362.1   70.8   14.0    1  8842.0     *      A     95.0\n",
      "14      727274  ACACME  544.6  326.4   27.0    1  8943.0     *      A    542.0\n",
      "15      730053  ACACME  612.2  100.7   19.0    1  8924.0     *      A    185.0\n",
      "16      730054  ACACME  612.0  101.4   17.0    1  8924.0     *      A    185.0\n",
      "17      730055  ACACME  612.0  102.6   21.0    1  8924.0     M      A    185.0\n",
      "18      730056  ACACME  614.5  103.0   15.0    1  8924.0     *      A    185.0\n",
      "19      730057  ACACME  614.5  101.7   33.0    1  8924.0     *      A    185.0\n",
      "20      730058  ACACME  610.2  105.4   21.0    1  8924.0     *      A    185.0\n",
      "21      730059  ACACME  612.0  106.9   17.0    1  8924.0     *      A    185.0\n",
      "22      730060  ACACME  612.0  106.1   23.0    1  8924.0     M      A    185.0\n",
      "23      740247  ACACME  812.4  292.9   16.0    1  8995.0     *      A    473.0\n",
      "59       15973  ACALDI  841.6  136.0   27.0    2  8995.0     *      A    234.0\n",
      "72       17752  ACALDI  842.5  273.2   72.0    1  9008.0     M      A    434.0\n",
      "76       18320  ACALDI  858.4  321.6   22.0    2  9013.0     *      A    515.0\n",
      "84       18754  ACALDI  840.8  405.9   40.0    1  9022.0     M      A    674.0\n",
      "92       19247  ACALDI  854.9  457.6   31.0    1  9023.0     *      A    755.0\n",
      "93       19250  ACALDI  853.8  459.9   37.0    2  9023.0     M      A    755.0\n",
      "119      21790  ACALDI  955.4  234.5   23.0    2  9035.0     *      A    399.0\n",
      "151      27268  ACALDI  920.4  260.2   30.0    1  9024.0    ML      A    437.0\n",
      "...        ...     ...    ...    ...    ...  ...     ...   ...    ...      ...\n",
      "368072  121802  ZUELGU  557.9  218.0  207.0    1  8926.0     *      A    343.0\n",
      "368077  157060  ZUELGU  435.8  260.7   92.0    1  8889.0     *      A    418.0\n",
      "368078  163218  ZUELGU  411.4  388.8  100.0    1  8890.0     *      A    617.0\n",
      "368081  240243  ZUELGU   89.6   33.7   71.0    1  8778.0     *      A     44.0\n",
      "368082  243796  ZUELGU   95.6  370.2  105.0    1  8821.0     *      A    564.0\n",
      "368085  282925  ZUELGU  354.9  277.1   21.0    1  8861.0     *      A    455.0\n",
      "368086  287288  ZUELGU  458.3  282.3   22.0    1  8909.0     *      A    459.0\n",
      "368089  412561  ZUELGU  256.2  254.6   24.0    1  8834.0     *      A    411.0\n",
      "368090  414447  ZUELGU  291.8  309.7   27.0    1  8839.0     *      A    492.0\n",
      "368091  415574  ZUELGU  313.6  336.9   33.0    1  8876.0     *      A    533.0\n",
      "368093  443178  ZUELGU  875.3   97.6   14.0    1  8995.0     *      A    156.0\n",
      "368097  512242  ZUELGU  241.2  425.5   29.0    1  8868.0     *      A    690.0\n",
      "368099  522191  ZUELGU  441.8  200.1   34.0    1  8890.0     *      A    338.0\n",
      "368101  535220  ZUELGU  708.3  310.2   28.0    1  8959.0     *      A    509.0\n",
      "368104  542221  ZUELGU  854.1  276.8   57.0    1  9008.0     *      A    475.0\n",
      "368107  547054  ZUELGU  944.9   75.1   18.0    1  9010.0     *      A    158.0\n",
      "368108  547092  ZUELGU  941.2   80.2   20.0    1  9014.0     *      A    158.0\n",
      "368109  602217  ZUELGU   53.5   82.0   20.0    1  8786.0     *      A    123.0\n",
      "368110  610109  ZUELGU  218.6  139.9   21.0    1  8825.0     *      A    209.0\n",
      "368111  642082  ZUELGU  853.7   65.8   22.0    1  8989.0     *      A    115.0\n",
      "368112  645336  ZUELGU  919.2  331.5   13.0    1  9030.0     *      A    557.0\n",
      "368113  646405  ZUELGU  936.6  323.8   29.0    1  9034.0     *      A    518.0\n",
      "368114  706090  ZUELGU  138.6  143.4   17.0    1  8791.0     *      A    206.0\n",
      "368115  715329  ZUELGU  315.1  476.6   59.0    1  8909.0     *      A    773.0\n",
      "368116  719456  ZUELGU  395.1  369.3   18.0    1  8901.0     *      A    576.0\n",
      "368117  730327  ZUELGU  604.1  474.3   21.0    1  8978.0     *      A    745.0\n",
      "368118  733102  ZUELGU  670.2  100.8   15.0    1  8939.0     *      A    187.0\n",
      "368119  733126  ZUELGU  666.3  143.0   14.0    1  8945.0     *      A    227.0\n",
      "368120  747285  ZUELGU  948.4  194.0   12.0    1  9029.0     *      A    318.0\n",
      "368121  749443  ZUELGU  999.3  272.2   16.0    1  9044.0     *      A    440.0\n",
      "\n",
      "[208387 rows x 10 columns]\n"
     ]
    }
   ],
   "source": [
    "print(df)"
   ]
  },
  {
   "cell_type": "code",
   "execution_count": 78,
   "metadata": {},
   "outputs": [
    {
     "data": {
      "text/plain": [
       "800.0"
      ]
     },
     "execution_count": 78,
     "metadata": {},
     "output_type": "execute_result"
    }
   ],
   "source": [
    "sub=df[\"subplot\"]    #check \n",
    "np.max(sub)"
   ]
  },
  {
   "cell_type": "code",
   "execution_count": 79,
   "metadata": {},
   "outputs": [],
   "source": [
    "j=np.arange(1,800.01,1)\n",
    "area=np.array([])\n",
    "inc=np.array([])\n",
    "for i in j:\n",
    "    med=np.array([])\n",
    "    a=np.arange(0,800.01-i,i)\n",
    "    for k in a:\n",
    "        sub=df.loc[df[\"subplot\"]>k] \n",
    "        sub=sub.loc[sub[\"subplot\"]<=k+i]\n",
    "        sp=np.unique(sub[\"sp\"])\n",
    "        med=np.append(med,len(sp))\n",
    "    area=np.append(area,i/800)\n",
    "    inc=np.append(inc,np.mean(med))    "
   ]
  },
  {
   "cell_type": "code",
   "execution_count": 90,
   "metadata": {},
   "outputs": [
    {
     "data": {
      "text/plain": [
       "[<matplotlib.lines.Line2D at 0x108d0c940>]"
      ]
     },
     "execution_count": 90,
     "metadata": {},
     "output_type": "execute_result"
    },
    {
     "data": {
      "image/png": "[encoded data removed]",
      "text/plain": [
       "<Figure size 432x288 with 1 Axes>"
      ]
     },
     "metadata": {},
     "output_type": "display_data"
    }
   ],
   "source": [
    "plt.plot(area,inc)"
   ]
  },
  {
   "cell_type": "code",
   "execution_count": 144,
   "metadata": {},
   "outputs": [],
   "source": [
    "from scipy.optimize import curve_fit"
   ]
  },
  {
   "cell_type": "code",
   "execution_count": 145,
   "metadata": {},
   "outputs": [],
   "source": [
    ">>> def func(x, m):\n",
    "    s=299    \n",
    "    return s*(1-(np.log(m*(1-x)+x))/np.log(m))"
   ]
  },
  {
   "cell_type": "code",
   "execution_count": 146,
   "metadata": {},
   "outputs": [],
   "source": [
    "popt, pcov = curve_fit(func,area,inc,bounds=(0,1))"
   ]
  },
  {
   "cell_type": "code",
   "execution_count": 147,
   "metadata": {},
   "outputs": [
    {
     "data": {
      "text/plain": [
       "array([4.87333985e-05])"
      ]
     },
     "execution_count": 147,
     "metadata": {},
     "output_type": "execute_result"
    }
   ],
   "source": [
    "popt"
   ]
  },
  {
   "cell_type": "code",
   "execution_count": 148,
   "metadata": {},
   "outputs": [
    {
     "data": {
      "text/plain": [
       "<matplotlib.legend.Legend at 0x10a27c240>"
      ]
     },
     "execution_count": 148,
     "metadata": {},
     "output_type": "execute_result"
    },
    {
     "data": {
      "image/png": "[encoded data removed]",
      "text/plain": [
       "<Figure size 432x288 with 1 Axes>"
      ]
     },
     "metadata": {},
     "output_type": "display_data"
    }
   ],
   "source": [
    "plt.plot(area,inc,area, func(area, *popt))\n",
    "plt.legend((\"data\",\"fit\"),loc=\"lower right\")"
   ]
  },
  {
   "cell_type": "code",
   "execution_count": 130,
   "metadata": {},
   "outputs": [],
   "source": [
    "np.savetxt(\"area.txt\",area)"
   ]
  },
  {
   "cell_type": "code",
   "execution_count": 131,
   "metadata": {},
   "outputs": [],
   "source": [
    "np.savetxt(\"inc.txt\",inc)"
   ]
  },
  {
   "cell_type": "code",
   "execution_count": 143,
   "metadata": {},
   "outputs": [],
   "source": [
    "np.savetxt(\"areainc.txt\",(area,inc),delimiter=\"\\t\")"
   ]
  },
  {
   "cell_type": "code",
   "execution_count": 139,
   "metadata": {},
   "outputs": [
    {
     "data": {
      "text/plain": [
       "array([0.00125, 0.0025 , 0.00375, 0.005  , 0.00625, 0.0075 , 0.00875,\n",
       "       0.01   , 0.01125, 0.0125 , 0.01375, 0.015  , 0.01625, 0.0175 ,\n",
       "       0.01875, 0.02   , 0.02125, 0.0225 , 0.02375, 0.025  , 0.02625,\n",
       "       0.0275 , 0.02875, 0.03   , 0.03125, 0.0325 , 0.03375, 0.035  ,\n",
       "       0.03625, 0.0375 , 0.03875, 0.04   , 0.04125, 0.0425 , 0.04375,\n",
       "       0.045  , 0.04625, 0.0475 , 0.04875, 0.05   , 0.05125, 0.0525 ,\n",
       "       0.05375, 0.055  , 0.05625, 0.0575 , 0.05875, 0.06   , 0.06125,\n",
       "       0.0625 , 0.06375, 0.065  , 0.06625, 0.0675 , 0.06875, 0.07   ,\n",
       "       0.07125, 0.0725 , 0.07375, 0.075  , 0.07625, 0.0775 , 0.07875,\n",
       "       0.08   , 0.08125, 0.0825 , 0.08375, 0.085  , 0.08625, 0.0875 ,\n",
       "       0.08875, 0.09   , 0.09125, 0.0925 , 0.09375, 0.095  , 0.09625,\n",
       "       0.0975 , 0.09875, 0.1    , 0.10125, 0.1025 , 0.10375, 0.105  ,\n",
       "       0.10625, 0.1075 , 0.10875, 0.11   , 0.11125, 0.1125 , 0.11375,\n",
       "       0.115  , 0.11625, 0.1175 , 0.11875, 0.12   , 0.12125, 0.1225 ,\n",
       "       0.12375, 0.125  , 0.12625, 0.1275 , 0.12875, 0.13   , 0.13125,\n",
       "       0.1325 , 0.13375, 0.135  , 0.13625, 0.1375 , 0.13875, 0.14   ,\n",
       "       0.14125, 0.1425 , 0.14375, 0.145  , 0.14625, 0.1475 , 0.14875,\n",
       "       0.15   , 0.15125, 0.1525 , 0.15375, 0.155  , 0.15625, 0.1575 ,\n",
       "       0.15875, 0.16   , 0.16125, 0.1625 , 0.16375, 0.165  , 0.16625,\n",
       "       0.1675 , 0.16875, 0.17   , 0.17125, 0.1725 , 0.17375, 0.175  ,\n",
       "       0.17625, 0.1775 , 0.17875, 0.18   , 0.18125, 0.1825 , 0.18375,\n",
       "       0.185  , 0.18625, 0.1875 , 0.18875, 0.19   , 0.19125, 0.1925 ,\n",
       "       0.19375, 0.195  , 0.19625, 0.1975 , 0.19875, 0.2    , 0.20125,\n",
       "       0.2025 , 0.20375, 0.205  , 0.20625, 0.2075 , 0.20875, 0.21   ,\n",
       "       0.21125, 0.2125 , 0.21375, 0.215  , 0.21625, 0.2175 , 0.21875,\n",
       "       0.22   , 0.22125, 0.2225 , 0.22375, 0.225  , 0.22625, 0.2275 ,\n",
       "       0.22875, 0.23   , 0.23125, 0.2325 , 0.23375, 0.235  , 0.23625,\n",
       "       0.2375 , 0.23875, 0.24   , 0.24125, 0.2425 , 0.24375, 0.245  ,\n",
       "       0.24625, 0.2475 , 0.24875, 0.25   , 0.25125, 0.2525 , 0.25375,\n",
       "       0.255  , 0.25625, 0.2575 , 0.25875, 0.26   , 0.26125, 0.2625 ,\n",
       "       0.26375, 0.265  , 0.26625, 0.2675 , 0.26875, 0.27   , 0.27125,\n",
       "       0.2725 , 0.27375, 0.275  , 0.27625, 0.2775 , 0.27875, 0.28   ,\n",
       "       0.28125, 0.2825 , 0.28375, 0.285  , 0.28625, 0.2875 , 0.28875,\n",
       "       0.29   , 0.29125, 0.2925 , 0.29375, 0.295  , 0.29625, 0.2975 ,\n",
       "       0.29875, 0.3    , 0.30125, 0.3025 , 0.30375, 0.305  , 0.30625,\n",
       "       0.3075 , 0.30875, 0.31   , 0.31125, 0.3125 , 0.31375, 0.315  ,\n",
       "       0.31625, 0.3175 , 0.31875, 0.32   , 0.32125, 0.3225 , 0.32375,\n",
       "       0.325  , 0.32625, 0.3275 , 0.32875, 0.33   , 0.33125, 0.3325 ,\n",
       "       0.33375, 0.335  , 0.33625, 0.3375 , 0.33875, 0.34   , 0.34125,\n",
       "       0.3425 , 0.34375, 0.345  , 0.34625, 0.3475 , 0.34875, 0.35   ,\n",
       "       0.35125, 0.3525 , 0.35375, 0.355  , 0.35625, 0.3575 , 0.35875,\n",
       "       0.36   , 0.36125, 0.3625 , 0.36375, 0.365  , 0.36625, 0.3675 ,\n",
       "       0.36875, 0.37   , 0.37125, 0.3725 , 0.37375, 0.375  , 0.37625,\n",
       "       0.3775 , 0.37875, 0.38   , 0.38125, 0.3825 , 0.38375, 0.385  ,\n",
       "       0.38625, 0.3875 , 0.38875, 0.39   , 0.39125, 0.3925 , 0.39375,\n",
       "       0.395  , 0.39625, 0.3975 , 0.39875, 0.4    , 0.40125, 0.4025 ,\n",
       "       0.40375, 0.405  , 0.40625, 0.4075 , 0.40875, 0.41   , 0.41125,\n",
       "       0.4125 , 0.41375, 0.415  , 0.41625, 0.4175 , 0.41875, 0.42   ,\n",
       "       0.42125, 0.4225 , 0.42375, 0.425  , 0.42625, 0.4275 , 0.42875,\n",
       "       0.43   , 0.43125, 0.4325 , 0.43375, 0.435  , 0.43625, 0.4375 ,\n",
       "       0.43875, 0.44   , 0.44125, 0.4425 , 0.44375, 0.445  , 0.44625,\n",
       "       0.4475 , 0.44875, 0.45   , 0.45125, 0.4525 , 0.45375, 0.455  ,\n",
       "       0.45625, 0.4575 , 0.45875, 0.46   , 0.46125, 0.4625 , 0.46375,\n",
       "       0.465  , 0.46625, 0.4675 , 0.46875, 0.47   , 0.47125, 0.4725 ,\n",
       "       0.47375, 0.475  , 0.47625, 0.4775 , 0.47875, 0.48   , 0.48125,\n",
       "       0.4825 , 0.48375, 0.485  , 0.48625, 0.4875 , 0.48875, 0.49   ,\n",
       "       0.49125, 0.4925 , 0.49375, 0.495  , 0.49625, 0.4975 , 0.49875,\n",
       "       0.5    , 0.50125, 0.5025 , 0.50375, 0.505  , 0.50625, 0.5075 ,\n",
       "       0.50875, 0.51   , 0.51125, 0.5125 , 0.51375, 0.515  , 0.51625,\n",
       "       0.5175 , 0.51875, 0.52   , 0.52125, 0.5225 , 0.52375, 0.525  ,\n",
       "       0.52625, 0.5275 , 0.52875, 0.53   , 0.53125, 0.5325 , 0.53375,\n",
       "       0.535  , 0.53625, 0.5375 , 0.53875, 0.54   , 0.54125, 0.5425 ,\n",
       "       0.54375, 0.545  , 0.54625, 0.5475 , 0.54875, 0.55   , 0.55125,\n",
       "       0.5525 , 0.55375, 0.555  , 0.55625, 0.5575 , 0.55875, 0.56   ,\n",
       "       0.56125, 0.5625 , 0.56375, 0.565  , 0.56625, 0.5675 , 0.56875,\n",
       "       0.57   , 0.57125, 0.5725 , 0.57375, 0.575  , 0.57625, 0.5775 ,\n",
       "       0.57875, 0.58   , 0.58125, 0.5825 , 0.58375, 0.585  , 0.58625,\n",
       "       0.5875 , 0.58875, 0.59   , 0.59125, 0.5925 , 0.59375, 0.595  ,\n",
       "       0.59625, 0.5975 , 0.59875, 0.6    , 0.60125, 0.6025 , 0.60375,\n",
       "       0.605  , 0.60625, 0.6075 , 0.60875, 0.61   , 0.61125, 0.6125 ,\n",
       "       0.61375, 0.615  , 0.61625, 0.6175 , 0.61875, 0.62   , 0.62125,\n",
       "       0.6225 , 0.62375, 0.625  , 0.62625, 0.6275 , 0.62875, 0.63   ,\n",
       "       0.63125, 0.6325 , 0.63375, 0.635  , 0.63625, 0.6375 , 0.63875,\n",
       "       0.64   , 0.64125, 0.6425 , 0.64375, 0.645  , 0.64625, 0.6475 ,\n",
       "       0.64875, 0.65   , 0.65125, 0.6525 , 0.65375, 0.655  , 0.65625,\n",
       "       0.6575 , 0.65875, 0.66   , 0.66125, 0.6625 , 0.66375, 0.665  ,\n",
       "       0.66625, 0.6675 , 0.66875, 0.67   , 0.67125, 0.6725 , 0.67375,\n",
       "       0.675  , 0.67625, 0.6775 , 0.67875, 0.68   , 0.68125, 0.6825 ,\n",
       "       0.68375, 0.685  , 0.68625, 0.6875 , 0.68875, 0.69   , 0.69125,\n",
       "       0.6925 , 0.69375, 0.695  , 0.69625, 0.6975 , 0.69875, 0.7    ,\n",
       "       0.70125, 0.7025 , 0.70375, 0.705  , 0.70625, 0.7075 , 0.70875,\n",
       "       0.71   , 0.71125, 0.7125 , 0.71375, 0.715  , 0.71625, 0.7175 ,\n",
       "       0.71875, 0.72   , 0.72125, 0.7225 , 0.72375, 0.725  , 0.72625,\n",
       "       0.7275 , 0.72875, 0.73   , 0.73125, 0.7325 , 0.73375, 0.735  ,\n",
       "       0.73625, 0.7375 , 0.73875, 0.74   , 0.74125, 0.7425 , 0.74375,\n",
       "       0.745  , 0.74625, 0.7475 , 0.74875, 0.75   , 0.75125, 0.7525 ,\n",
       "       0.75375, 0.755  , 0.75625, 0.7575 , 0.75875, 0.76   , 0.76125,\n",
       "       0.7625 , 0.76375, 0.765  , 0.76625, 0.7675 , 0.76875, 0.77   ,\n",
       "       0.77125, 0.7725 , 0.77375, 0.775  , 0.77625, 0.7775 , 0.77875,\n",
       "       0.78   , 0.78125, 0.7825 , 0.78375, 0.785  , 0.78625, 0.7875 ,\n",
       "       0.78875, 0.79   , 0.79125, 0.7925 , 0.79375, 0.795  , 0.79625,\n",
       "       0.7975 , 0.79875, 0.8    , 0.80125, 0.8025 , 0.80375, 0.805  ,\n",
       "       0.80625, 0.8075 , 0.80875, 0.81   , 0.81125, 0.8125 , 0.81375,\n",
       "       0.815  , 0.81625, 0.8175 , 0.81875, 0.82   , 0.82125, 0.8225 ,\n",
       "       0.82375, 0.825  , 0.82625, 0.8275 , 0.82875, 0.83   , 0.83125,\n",
       "       0.8325 , 0.83375, 0.835  , 0.83625, 0.8375 , 0.83875, 0.84   ,\n",
       "       0.84125, 0.8425 , 0.84375, 0.845  , 0.84625, 0.8475 , 0.84875,\n",
       "       0.85   , 0.85125, 0.8525 , 0.85375, 0.855  , 0.85625, 0.8575 ,\n",
       "       0.85875, 0.86   , 0.86125, 0.8625 , 0.86375, 0.865  , 0.86625,\n",
       "       0.8675 , 0.86875, 0.87   , 0.87125, 0.8725 , 0.87375, 0.875  ,\n",
       "       0.87625, 0.8775 , 0.87875, 0.88   , 0.88125, 0.8825 , 0.88375,\n",
       "       0.885  , 0.88625, 0.8875 , 0.88875, 0.89   , 0.89125, 0.8925 ,\n",
       "       0.89375, 0.895  , 0.89625, 0.8975 , 0.89875, 0.9    , 0.90125,\n",
       "       0.9025 , 0.90375, 0.905  , 0.90625, 0.9075 , 0.90875, 0.91   ,\n",
       "       0.91125, 0.9125 , 0.91375, 0.915  , 0.91625, 0.9175 , 0.91875,\n",
       "       0.92   , 0.92125, 0.9225 , 0.92375, 0.925  , 0.92625, 0.9275 ,\n",
       "       0.92875, 0.93   , 0.93125, 0.9325 , 0.93375, 0.935  , 0.93625,\n",
       "       0.9375 , 0.93875, 0.94   , 0.94125, 0.9425 , 0.94375, 0.945  ,\n",
       "       0.94625, 0.9475 , 0.94875, 0.95   , 0.95125, 0.9525 , 0.95375,\n",
       "       0.955  , 0.95625, 0.9575 , 0.95875, 0.96   , 0.96125, 0.9625 ,\n",
       "       0.96375, 0.965  , 0.96625, 0.9675 , 0.96875, 0.97   , 0.97125,\n",
       "       0.9725 , 0.97375, 0.975  , 0.97625, 0.9775 , 0.97875, 0.98   ,\n",
       "       0.98125, 0.9825 , 0.98375, 0.985  , 0.98625, 0.9875 , 0.98875,\n",
       "       0.99   , 0.99125, 0.9925 , 0.99375, 0.995  , 0.99625, 0.9975 ,\n",
       "       0.99875, 1.     ])"
      ]
     },
     "execution_count": 139,
     "metadata": {},
     "output_type": "execute_result"
    }
   ],
   "source": [
    "area"
   ]
  },
  {
   "cell_type": "code",
   "execution_count": null,
   "metadata": {},
   "outputs": [],
   "source": []
  }
 ],
 "metadata": {
  "kernelspec": {
   "display_name": "Python 3",
   "language": "python",
   "name": "python3"
  },
  "language_info": {
   "codemirror_mode": {
    "name": "ipython",
    "version": 3
   },
   "file_extension": ".py",
   "mimetype": "text/x-python",
   "name": "python",
   "nbconvert_exporter": "python",
   "pygments_lexer": "ipython3",
   "version": "3.6.8"
  },
  "varInspector": {
   "cols": {
    "lenName": 16,
    "lenType": 16,
    "lenVar": 40
   },
   "kernels_config": {
    "python": {
     "delete_cmd_postfix": "",
     "delete_cmd_prefix": "del ",
     "library": "var_list.py",
     "varRefreshCmd": "print(var_dic_list())"
    },
    "r": {
     "delete_cmd_postfix": ") ",
     "delete_cmd_prefix": "rm(",
     "library": "var_list.r",
     "varRefreshCmd": "cat(var_dic_list()) "
    }
   },
   "types_to_exclude": [
    "module",
    "function",
    "builtin_function_or_method",
    "instance",
    "_Feature"
   ],
   "window_display": false
  }
 },
 "nbformat": 4,
 "nbformat_minor": 2
}
