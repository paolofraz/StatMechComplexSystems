{
 "cells": [
  {
   "cell_type": "code",
   "execution_count": 1,
   "metadata": {
    "ExecuteTime": {
     "end_time": "2019-05-15T14:50:30.220080Z",
     "start_time": "2019-05-15T14:50:21.837640Z"
    }
   },
   "outputs": [],
   "source": [
    "import numpy as np\n",
    "import matplotlib.pyplot as plt\n",
    "import pandas as pd"
   ]
  },
  {
   "cell_type": "code",
   "execution_count": 2,
   "metadata": {
    "ExecuteTime": {
     "end_time": "2019-05-15T14:50:33.744132Z",
     "start_time": "2019-05-15T14:50:32.096910Z"
    }
   },
   "outputs": [],
   "source": [
    "df=pd.read_csv(\"bci05.csv\") #reading the file"
   ]
  },
  {
   "cell_type": "code",
   "execution_count": 3,
   "metadata": {
    "ExecuteTime": {
     "end_time": "2019-05-15T14:50:35.164769Z",
     "start_time": "2019-05-15T14:50:34.873468Z"
    }
   },
   "outputs": [],
   "source": [
    "df=df.loc[df.status==\"A\"] #selecting only the species present\n",
    "speci=pd.unique(df[\"sp\"]) #vector of all speices namE"
   ]
  },
  {
   "cell_type": "code",
   "execution_count": 4,
   "metadata": {
    "ExecuteTime": {
     "end_time": "2019-05-15T14:50:36.833768Z",
     "start_time": "2019-05-15T14:50:35.721728Z"
    }
   },
   "outputs": [],
   "source": [
    "x=df[\"gx\"]                #dividing in 800 subplot\n",
    "y=df[\"gy\"]\n",
    "df['subplot']=((x//25)+1)+(((y//25))*40)\n",
    "df['subplot']=df['subplot'].astype(int)"
   ]
  },
  {
   "cell_type": "code",
   "execution_count": 5,
   "metadata": {
    "ExecuteTime": {
     "end_time": "2019-05-15T14:50:38.792700Z",
     "start_time": "2019-05-15T14:50:38.687986Z"
    }
   },
   "outputs": [
    {
     "name": "stdout",
     "output_type": "stream",
     "text": [
      "           tag      sp     gx     gy    dbh  pom    date codes status  subplot\n",
      "0       105951  ACACME  610.0  104.7  119.0    1  8924.0     M      A      185\n",
      "1       132160  ACACME  534.8  241.3  116.0    1  8922.0     *      A      382\n",
      "4       191542  ACACME  282.7  177.5   75.0    1  8825.0     *      A      292\n",
      "5       269064  ACACME   84.2   74.8   21.0    1  8783.0     *      A       84\n",
      "6       272540  ACACME  149.9  389.8   20.0    1  8833.0     *      A      606\n",
      "7       422989  ACACME  450.8  216.8   21.0    1  8890.0     *      A      339\n",
      "8       430127  ACACME  606.4  105.6   43.0    1  8924.0     *      A      185\n",
      "9       430131  ACACME  606.1  103.1   26.0    1  8924.0     *      A      185\n",
      "10      430132  ACACME  606.3  102.4   59.0    1  8924.0     *      A      185\n",
      "11      530056  ACACME  612.6  107.6   51.0    1  8924.0     *      A      185\n",
      "12      707243  ACACME  141.4  190.1   25.0    1  8826.0     *      A      286\n",
      "13      718100  ACACME  362.1   70.8   14.0    1  8842.0     *      A       95\n",
      "14      727274  ACACME  544.6  326.4   27.0    1  8943.0     *      A      542\n",
      "15      730053  ACACME  612.2  100.7   19.0    1  8924.0     *      A      185\n",
      "16      730054  ACACME  612.0  101.4   17.0    1  8924.0     *      A      185\n",
      "17      730055  ACACME  612.0  102.6   21.0    1  8924.0     M      A      185\n",
      "18      730056  ACACME  614.5  103.0   15.0    1  8924.0     *      A      185\n",
      "19      730057  ACACME  614.5  101.7   33.0    1  8924.0     *      A      185\n",
      "20      730058  ACACME  610.2  105.4   21.0    1  8924.0     *      A      185\n",
      "21      730059  ACACME  612.0  106.9   17.0    1  8924.0     *      A      185\n",
      "22      730060  ACACME  612.0  106.1   23.0    1  8924.0     M      A      185\n",
      "23      740247  ACACME  812.4  292.9   16.0    1  8995.0     *      A      473\n",
      "59       15973  ACALDI  841.6  136.0   27.0    2  8995.0     *      A      234\n",
      "72       17752  ACALDI  842.5  273.2   72.0    1  9008.0     M      A      434\n",
      "76       18320  ACALDI  858.4  321.6   22.0    2  9013.0     *      A      515\n",
      "84       18754  ACALDI  840.8  405.9   40.0    1  9022.0     M      A      674\n",
      "92       19247  ACALDI  854.9  457.6   31.0    1  9023.0     *      A      755\n",
      "93       19250  ACALDI  853.8  459.9   37.0    2  9023.0     M      A      755\n",
      "119      21790  ACALDI  955.4  234.5   23.0    2  9035.0     *      A      399\n",
      "151      27268  ACALDI  920.4  260.2   30.0    1  9024.0    ML      A      437\n",
      "...        ...     ...    ...    ...    ...  ...     ...   ...    ...      ...\n",
      "368072  121802  ZUELGU  557.9  218.0  207.0    1  8926.0     *      A      343\n",
      "368077  157060  ZUELGU  435.8  260.7   92.0    1  8889.0     *      A      418\n",
      "368078  163218  ZUELGU  411.4  388.8  100.0    1  8890.0     *      A      617\n",
      "368081  240243  ZUELGU   89.6   33.7   71.0    1  8778.0     *      A       44\n",
      "368082  243796  ZUELGU   95.6  370.2  105.0    1  8821.0     *      A      564\n",
      "368085  282925  ZUELGU  354.9  277.1   21.0    1  8861.0     *      A      455\n",
      "368086  287288  ZUELGU  458.3  282.3   22.0    1  8909.0     *      A      459\n",
      "368089  412561  ZUELGU  256.2  254.6   24.0    1  8834.0     *      A      411\n",
      "368090  414447  ZUELGU  291.8  309.7   27.0    1  8839.0     *      A      492\n",
      "368091  415574  ZUELGU  313.6  336.9   33.0    1  8876.0     *      A      533\n",
      "368093  443178  ZUELGU  875.3   97.6   14.0    1  8995.0     *      A      156\n",
      "368097  512242  ZUELGU  241.2  425.5   29.0    1  8868.0     *      A      690\n",
      "368099  522191  ZUELGU  441.8  200.1   34.0    1  8890.0     *      A      338\n",
      "368101  535220  ZUELGU  708.3  310.2   28.0    1  8959.0     *      A      509\n",
      "368104  542221  ZUELGU  854.1  276.8   57.0    1  9008.0     *      A      475\n",
      "368107  547054  ZUELGU  944.9   75.1   18.0    1  9010.0     *      A      158\n",
      "368108  547092  ZUELGU  941.2   80.2   20.0    1  9014.0     *      A      158\n",
      "368109  602217  ZUELGU   53.5   82.0   20.0    1  8786.0     *      A      123\n",
      "368110  610109  ZUELGU  218.6  139.9   21.0    1  8825.0     *      A      209\n",
      "368111  642082  ZUELGU  853.7   65.8   22.0    1  8989.0     *      A      115\n",
      "368112  645336  ZUELGU  919.2  331.5   13.0    1  9030.0     *      A      557\n",
      "368113  646405  ZUELGU  936.6  323.8   29.0    1  9034.0     *      A      518\n",
      "368114  706090  ZUELGU  138.6  143.4   17.0    1  8791.0     *      A      206\n",
      "368115  715329  ZUELGU  315.1  476.6   59.0    1  8909.0     *      A      773\n",
      "368116  719456  ZUELGU  395.1  369.3   18.0    1  8901.0     *      A      576\n",
      "368117  730327  ZUELGU  604.1  474.3   21.0    1  8978.0     *      A      745\n",
      "368118  733102  ZUELGU  670.2  100.8   15.0    1  8939.0     *      A      187\n",
      "368119  733126  ZUELGU  666.3  143.0   14.0    1  8945.0     *      A      227\n",
      "368120  747285  ZUELGU  948.4  194.0   12.0    1  9029.0     *      A      318\n",
      "368121  749443  ZUELGU  999.3  272.2   16.0    1  9044.0     *      A      440\n",
      "\n",
      "[208387 rows x 10 columns]\n"
     ]
    }
   ],
   "source": [
    "print(df)"
   ]
  },
  {
   "cell_type": "code",
   "execution_count": 6,
   "metadata": {
    "ExecuteTime": {
     "end_time": "2019-05-15T14:50:42.123621Z",
     "start_time": "2019-05-15T14:50:39.554495Z"
    }
   },
   "outputs": [
    {
     "name": "stdout",
     "output_type": "stream",
     "text": [
      "208387\n"
     ]
    }
   ],
   "source": [
    "sub=df[\"subplot\"]    #check \n",
    "np.max(sub)\n",
    "count=0\n",
    "for n in range(1,801):\n",
    "    count=count+df.subplot.loc[df.subplot==n].size\n",
    "print(count)"
   ]
  },
  {
   "cell_type": "code",
   "execution_count": 7,
   "metadata": {
    "ExecuteTime": {
     "end_time": "2019-05-15T14:50:42.472694Z",
     "start_time": "2019-05-15T14:50:42.429805Z"
    }
   },
   "outputs": [],
   "source": [
    "#shuffle\n",
    "np.random.seed(2019)\n",
    "v=np.arange(1,801,1)\n",
    "np.random.shuffle(v)\n",
    "df[\"subplot\"]=v[df[\"subplot\"]-1]"
   ]
  },
  {
   "cell_type": "code",
   "execution_count": 8,
   "metadata": {
    "ExecuteTime": {
     "end_time": "2019-05-15T14:58:57.577044Z",
     "start_time": "2019-05-15T14:50:48.800855Z"
    }
   },
   "outputs": [
    {
     "name": "stdout",
     "output_type": "stream",
     "text": [
      "267 [272. 272.]\n",
      "271 [272. 272.]\n",
      "272 [272. 272.]\n",
      "280 [273. 273.]\n",
      "281 [273. 273.]\n",
      "282 [273. 273.]\n",
      "283 [273. 273.]\n",
      "284 [273. 273.]\n",
      "318 [276. 276.]\n",
      "331 [278. 278.]\n",
      "332 [278. 278.]\n",
      "333 [278. 278.]\n",
      "334 [278. 278.]\n",
      "335 [278. 278.]\n",
      "336 [278. 278.]\n",
      "337 [278. 278.]\n",
      "338 [278. 278.]\n",
      "339 [278. 278.]\n",
      "340 [278. 278.]\n",
      "345 [278. 278.]\n",
      "357 [281. 281.]\n",
      "358 [281. 281.]\n",
      "359 [281. 281.]\n",
      "360 [281. 281.]\n",
      "365 [281. 281.]\n",
      "380 [282. 282.]\n",
      "381 [282. 282.]\n",
      "390 [283. 283.]\n",
      "391 [283. 283.]\n",
      "392 [283. 283.]\n",
      "393 [283. 283.]\n",
      "394 [283. 283.]\n",
      "395 [283. 283.]\n",
      "396 [283. 283.]\n",
      "398 [284. 284.]\n",
      "399 [284. 284.]\n",
      "400 [284. 284.]\n",
      "401 [285.]\n",
      "402 [285.]\n",
      "403 [285.]\n",
      "404 [285.]\n",
      "405 [285.]\n",
      "406 [285.]\n",
      "407 [285.]\n",
      "408 [285.]\n",
      "409 [285.]\n",
      "410 [285.]\n",
      "411 [285.]\n",
      "412 [285.]\n",
      "413 [285.]\n",
      "414 [285.]\n",
      "415 [285.]\n",
      "416 [286.]\n",
      "417 [286.]\n",
      "418 [286.]\n",
      "419 [286.]\n",
      "420 [286.]\n",
      "421 [286.]\n",
      "422 [286.]\n",
      "423 [286.]\n",
      "424 [286.]\n",
      "425 [286.]\n",
      "426 [286.]\n",
      "427 [286.]\n",
      "428 [286.]\n",
      "429 [288.]\n",
      "430 [288.]\n",
      "431 [288.]\n",
      "432 [288.]\n",
      "433 [288.]\n",
      "434 [288.]\n",
      "435 [288.]\n",
      "436 [288.]\n",
      "437 [288.]\n",
      "438 [288.]\n",
      "439 [288.]\n",
      "440 [288.]\n",
      "441 [288.]\n",
      "442 [288.]\n",
      "443 [288.]\n",
      "444 [288.]\n",
      "445 [288.]\n",
      "446 [288.]\n",
      "447 [288.]\n",
      "448 [288.]\n",
      "449 [288.]\n",
      "450 [288.]\n",
      "451 [288.]\n",
      "452 [288.]\n",
      "453 [288.]\n",
      "454 [288.]\n",
      "455 [288.]\n",
      "456 [288.]\n",
      "457 [288.]\n",
      "458 [288.]\n",
      "459 [288.]\n",
      "460 [288.]\n",
      "461 [288.]\n",
      "462 [288.]\n",
      "463 [288.]\n",
      "464 [288.]\n",
      "465 [288.]\n",
      "466 [288.]\n",
      "467 [288.]\n",
      "468 [288.]\n",
      "469 [288.]\n",
      "470 [288.]\n",
      "471 [288.]\n",
      "472 [288.]\n",
      "473 [288.]\n",
      "474 [288.]\n",
      "475 [288.]\n",
      "476 [288.]\n",
      "477 [288.]\n",
      "478 [288.]\n",
      "479 [288.]\n",
      "480 [288.]\n",
      "481 [288.]\n",
      "482 [288.]\n",
      "483 [288.]\n",
      "484 [288.]\n",
      "485 [288.]\n",
      "486 [288.]\n",
      "487 [288.]\n",
      "488 [288.]\n",
      "489 [288.]\n",
      "490 [288.]\n",
      "491 [289.]\n",
      "492 [289.]\n",
      "493 [289.]\n",
      "494 [289.]\n",
      "495 [289.]\n",
      "496 [289.]\n",
      "497 [289.]\n",
      "498 [289.]\n",
      "499 [289.]\n",
      "500 [289.]\n",
      "501 [289.]\n",
      "502 [289.]\n",
      "503 [289.]\n",
      "504 [289.]\n",
      "505 [289.]\n",
      "506 [289.]\n",
      "507 [289.]\n",
      "508 [289.]\n",
      "509 [289.]\n",
      "510 [290.]\n",
      "511 [290.]\n",
      "512 [290.]\n",
      "513 [290.]\n",
      "514 [290.]\n",
      "515 [290.]\n",
      "516 [290.]\n",
      "517 [290.]\n",
      "518 [290.]\n",
      "519 [290.]\n",
      "520 [290.]\n",
      "521 [290.]\n",
      "522 [290.]\n",
      "523 [290.]\n",
      "524 [290.]\n",
      "525 [290.]\n",
      "526 [290.]\n",
      "527 [290.]\n",
      "528 [290.]\n",
      "529 [290.]\n",
      "530 [290.]\n",
      "531 [290.]\n",
      "532 [290.]\n",
      "533 [290.]\n",
      "534 [290.]\n",
      "535 [290.]\n",
      "536 [290.]\n",
      "537 [290.]\n",
      "538 [290.]\n",
      "539 [290.]\n",
      "540 [290.]\n",
      "541 [290.]\n",
      "542 [290.]\n",
      "543 [290.]\n",
      "544 [290.]\n",
      "545 [290.]\n",
      "546 [290.]\n",
      "547 [290.]\n",
      "548 [290.]\n",
      "549 [290.]\n",
      "550 [290.]\n",
      "551 [290.]\n",
      "552 [290.]\n",
      "553 [290.]\n",
      "554 [290.]\n",
      "555 [290.]\n",
      "556 [291.]\n",
      "557 [291.]\n",
      "558 [291.]\n",
      "559 [292.]\n",
      "560 [292.]\n",
      "561 [292.]\n",
      "562 [292.]\n",
      "563 [292.]\n",
      "564 [292.]\n",
      "565 [292.]\n",
      "566 [292.]\n",
      "567 [292.]\n",
      "568 [292.]\n",
      "569 [292.]\n",
      "570 [292.]\n",
      "571 [292.]\n",
      "572 [292.]\n",
      "573 [292.]\n",
      "574 [292.]\n",
      "575 [292.]\n",
      "576 [293.]\n",
      "577 [293.]\n",
      "578 [294.]\n",
      "579 [294.]\n",
      "580 [294.]\n",
      "581 [294.]\n",
      "582 [294.]\n",
      "583 [294.]\n",
      "584 [294.]\n",
      "585 [294.]\n",
      "586 [294.]\n",
      "587 [294.]\n",
      "588 [294.]\n",
      "589 [294.]\n",
      "590 [294.]\n",
      "591 [294.]\n",
      "592 [294.]\n",
      "593 [294.]\n",
      "594 [294.]\n",
      "595 [294.]\n",
      "596 [294.]\n",
      "597 [294.]\n",
      "598 [294.]\n",
      "599 [294.]\n",
      "600 [294.]\n",
      "601 [294.]\n",
      "602 [294.]\n",
      "603 [294.]\n",
      "604 [294.]\n",
      "605 [294.]\n",
      "606 [294.]\n",
      "607 [294.]\n",
      "608 [294.]\n",
      "609 [294.]\n",
      "610 [294.]\n",
      "611 [294.]\n",
      "612 [294.]\n",
      "613 [294.]\n",
      "614 [294.]\n",
      "615 [294.]\n",
      "616 [294.]\n",
      "617 [294.]\n",
      "618 [294.]\n",
      "619 [294.]\n",
      "620 [294.]\n",
      "621 [294.]\n",
      "622 [294.]\n",
      "623 [295.]\n",
      "624 [295.]\n",
      "625 [295.]\n",
      "626 [295.]\n",
      "627 [295.]\n",
      "628 [295.]\n",
      "629 [295.]\n",
      "630 [295.]\n",
      "631 [295.]\n",
      "632 [295.]\n",
      "633 [295.]\n",
      "634 [295.]\n",
      "635 [295.]\n",
      "636 [295.]\n",
      "637 [295.]\n",
      "638 [295.]\n",
      "639 [295.]\n",
      "640 [295.]\n",
      "641 [296.]\n",
      "642 [296.]\n",
      "643 [296.]\n",
      "644 [296.]\n",
      "645 [296.]\n",
      "646 [296.]\n",
      "647 [296.]\n",
      "648 [296.]\n",
      "649 [296.]\n",
      "650 [296.]\n",
      "651 [296.]\n",
      "652 [296.]\n",
      "653 [296.]\n",
      "654 [296.]\n",
      "655 [296.]\n",
      "656 [296.]\n",
      "657 [296.]\n",
      "658 [296.]\n",
      "659 [296.]\n",
      "660 [296.]\n",
      "661 [296.]\n",
      "662 [296.]\n",
      "663 [296.]\n",
      "664 [296.]\n",
      "665 [296.]\n",
      "666 [296.]\n",
      "667 [296.]\n",
      "668 [296.]\n",
      "669 [296.]\n",
      "670 [296.]\n",
      "671 [296.]\n",
      "672 [296.]\n",
      "673 [296.]\n",
      "674 [296.]\n",
      "675 [296.]\n",
      "676 [296.]\n",
      "677 [296.]\n",
      "678 [296.]\n",
      "679 [296.]\n",
      "680 [296.]\n",
      "681 [296.]\n",
      "682 [296.]\n",
      "683 [296.]\n",
      "684 [296.]\n",
      "685 [296.]\n",
      "686 [296.]\n",
      "687 [296.]\n",
      "688 [296.]\n",
      "689 [296.]\n",
      "690 [296.]\n",
      "691 [296.]\n",
      "692 [296.]\n",
      "693 [296.]\n",
      "694 [296.]\n",
      "695 [296.]\n",
      "696 [296.]\n",
      "697 [296.]\n",
      "698 [296.]\n",
      "699 [296.]\n",
      "700 [296.]\n",
      "701 [296.]\n",
      "702 [296.]\n",
      "703 [296.]\n",
      "704 [296.]\n",
      "705 [296.]\n",
      "706 [296.]\n",
      "707 [296.]\n",
      "708 [296.]\n",
      "709 [296.]\n",
      "710 [296.]\n",
      "711 [296.]\n",
      "712 [296.]\n",
      "713 [296.]\n",
      "714 [298.]\n",
      "715 [298.]\n",
      "716 [298.]\n",
      "717 [298.]\n",
      "718 [298.]\n",
      "719 [298.]\n",
      "720 [298.]\n",
      "721 [298.]\n",
      "722 [298.]\n",
      "723 [298.]\n",
      "724 [298.]\n",
      "725 [298.]\n",
      "726 [298.]\n",
      "727 [298.]\n",
      "728 [298.]\n",
      "729 [298.]\n",
      "730 [298.]\n",
      "731 [298.]\n",
      "732 [298.]\n",
      "733 [298.]\n",
      "734 [298.]\n",
      "735 [298.]\n",
      "736 [298.]\n",
      "737 [298.]\n",
      "738 [298.]\n",
      "739 [298.]\n",
      "740 [298.]\n",
      "741 [298.]\n",
      "742 [298.]\n",
      "743 [298.]\n",
      "744 [298.]\n",
      "745 [298.]\n",
      "746 [298.]\n",
      "747 [298.]\n",
      "748 [298.]\n",
      "749 [298.]\n",
      "750 [298.]\n",
      "751 [298.]\n",
      "752 [298.]\n",
      "753 [298.]\n",
      "754 [298.]\n",
      "755 [298.]\n",
      "756 [298.]\n",
      "757 [298.]\n",
      "758 [298.]\n",
      "759 [298.]\n",
      "760 [298.]\n",
      "761 [298.]\n",
      "762 [298.]\n",
      "763 [298.]\n",
      "764 [298.]\n",
      "765 [298.]\n",
      "766 [298.]\n",
      "767 [298.]\n",
      "768 [298.]\n",
      "769 [298.]\n",
      "770 [298.]\n",
      "771 [298.]\n",
      "772 [298.]\n",
      "773 [298.]\n",
      "774 [298.]\n",
      "775 [298.]\n",
      "776 [298.]\n",
      "777 [298.]\n",
      "778 [298.]\n",
      "779 [299.]\n",
      "780 [299.]\n",
      "781 [299.]\n",
      "782 [299.]\n",
      "783 [299.]\n",
      "784 [299.]\n",
      "785 [299.]\n",
      "786 [299.]\n",
      "787 [299.]\n",
      "788 [299.]\n",
      "789 [299.]\n",
      "790 [299.]\n",
      "791 [299.]\n",
      "792 [299.]\n",
      "793 [299.]\n",
      "794 [299.]\n",
      "795 [299.]\n",
      "796 [299.]\n",
      "797 [299.]\n",
      "798 [299.]\n",
      "799 [299.]\n",
      "800 [299.]\n"
     ]
    }
   ],
   "source": [
    "j=np.arange(1,801,1)\n",
    "area=np.array([])\n",
    "inc=np.array([])\n",
    "err_bar=np.array([])\n",
    "for i in j:\n",
    "    med=np.array([])\n",
    "    a=np.arange(0,801-i,i)\n",
    "    for k in a:\n",
    "        sub=df.loc[df[\"subplot\"]>k] \n",
    "        sub=sub.loc[sub[\"subplot\"]<=k+i]\n",
    "        sp=np.unique(sub[\"sp\"])\n",
    "        med=np.append(med,len(sp))\n",
    "    area=np.append(area,i/800)\n",
    "    inc=np.append(inc,np.mean(med))\n",
    "    err_bar=np.append(err_bar,np.std(med))\n",
    "    if (np.std(med)==0):\n",
    "        print(i,med)\n",
    "    "
   ]
  },
  {
   "cell_type": "code",
   "execution_count": 9,
   "metadata": {
    "ExecuteTime": {
     "end_time": "2019-05-15T14:59:00.691143Z",
     "start_time": "2019-05-15T14:58:58.030830Z"
    }
   },
   "outputs": [],
   "source": [
    "from scipy.optimize import curve_fit"
   ]
  },
  {
   "cell_type": "code",
   "execution_count": 10,
   "metadata": {
    "ExecuteTime": {
     "end_time": "2019-05-15T14:59:00.913547Z",
     "start_time": "2019-05-15T14:59:00.905569Z"
    }
   },
   "outputs": [],
   "source": [
    ">>> def func(x,m):\n",
    "    s=299    \n",
    "    return s*(1-(np.log(m*(1-x)+x))/np.log(m))"
   ]
  },
  {
   "cell_type": "raw",
   "metadata": {},
   "source": [
    "print(err_bar)"
   ]
  },
  {
   "cell_type": "code",
   "execution_count": 11,
   "metadata": {
    "ExecuteTime": {
     "end_time": "2019-05-15T14:59:01.188582Z",
     "start_time": "2019-05-15T14:59:01.096059Z"
    }
   },
   "outputs": [],
   "source": [
    "popt, pcov = curve_fit(func,area,inc,bounds=(0,1),p0=0.05)"
   ]
  },
  {
   "cell_type": "code",
   "execution_count": 12,
   "metadata": {
    "ExecuteTime": {
     "end_time": "2019-05-15T14:59:01.479814Z",
     "start_time": "2019-05-15T14:59:01.459860Z"
    }
   },
   "outputs": [
    {
     "data": {
      "text/plain": [
       "(array([1.49053195e-05]), array([[8.05577401e-07]]))"
      ]
     },
     "execution_count": 12,
     "metadata": {},
     "output_type": "execute_result"
    }
   ],
   "source": [
    "popt, np.sqrt(pcov)"
   ]
  },
  {
   "cell_type": "code",
   "execution_count": 16,
   "metadata": {
    "ExecuteTime": {
     "end_time": "2019-05-15T15:07:04.275740Z",
     "start_time": "2019-05-15T15:07:00.922710Z"
    }
   },
   "outputs": [
    {
     "data": {
      "image/png": "[encoded data removed]",
      "text/plain": [
       "<Figure size 864x576 with 1 Axes>"
      ]
     },
     "metadata": {
      "needs_background": "light"
     },
     "output_type": "display_data"
    }
   ],
   "source": [
    "plt.figure(figsize=(12,8))\n",
    "plt.grid()\n",
    "plt.plot(area,func(area,popt),linewidth=3,ls=\"--\",c=\"red\", label=\"SAR, $m_{fit}$\")\n",
    "plt.plot(area,func(area,0.05),linewidth=3,ls=\"--\",c=\"green\", label=\"SAR, $m=0.05$\")\n",
    "plt.errorbar(area,inc,yerr=err_bar, label=\"Experimental SAR\")\n",
    "plt.legend()\n",
    "plt.xlim(0,1)\n",
    "plt.ylim(50,300)\n",
    "plt.ylabel('# Species',fontsize=14)\n",
    "plt.xlabel('Relative Area $ja/A$', fontsize=14)\n",
    "#plt.title(\"SAR Voter Model\", fontsize=18)\n",
    "plt.savefig('./Images/SAR.png',dpi=100,bbox_inches='tight')\n",
    "plt.show()"
   ]
  },
  {
   "cell_type": "code",
   "execution_count": null,
   "metadata": {},
   "outputs": [],
   "source": []
  }
 ],
 "metadata": {
  "kernelspec": {
   "display_name": "Python 3",
   "language": "python",
   "name": "python3"
  },
  "language_info": {
   "codemirror_mode": {
    "name": "ipython",
    "version": 3
   },
   "file_extension": ".py",
   "mimetype": "text/x-python",
   "name": "python",
   "nbconvert_exporter": "python",
   "pygments_lexer": "ipython3",
   "version": "3.6.8"
  },
  "varInspector": {
   "cols": {
    "lenName": 16,
    "lenType": 16,
    "lenVar": 40
   },
   "kernels_config": {
    "python": {
     "delete_cmd_postfix": "",
     "delete_cmd_prefix": "del ",
     "library": "var_list.py",
     "varRefreshCmd": "print(var_dic_list())"
    },
    "r": {
     "delete_cmd_postfix": ") ",
     "delete_cmd_prefix": "rm(",
     "library": "var_list.r",
     "varRefreshCmd": "cat(var_dic_list()) "
    }
   },
   "types_to_exclude": [
    "module",
    "function",
    "builtin_function_or_method",
    "instance",
    "_Feature"
   ],
   "window_display": false
  }
 },
 "nbformat": 4,
 "nbformat_minor": 2
}
