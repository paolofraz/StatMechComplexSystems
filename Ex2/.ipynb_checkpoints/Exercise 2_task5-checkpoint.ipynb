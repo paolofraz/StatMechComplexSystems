{
 "cells": [
  {
   "cell_type": "code",
   "execution_count": 12,
   "metadata": {},
   "outputs": [],
   "source": [
    "A=np.loadtxt(\"/Users/enricolorenzetti/Desktop/Complex Systems/Exercises/Exercise 2/cases_100locations_first77days.txt\")"
   ]
  },
  {
   "cell_type": "code",
   "execution_count": 1,
   "metadata": {},
   "outputs": [],
   "source": [
    "import pandas as pd\n",
    "import matplotlib.pyplot as plt\n",
    "import numpy as np\n",
    "import networkx as nx\n",
    "import pandas as pd"
   ]
  },
  {
   "cell_type": "code",
   "execution_count": 9,
   "metadata": {
    "scrolled": true,
    "slideshow": {
     "slide_type": "-"
    }
   },
   "outputs": [
    {
     "name": "stdout",
     "output_type": "stream",
     "text": [
      "        loc   day      S      I      R\n",
      "0       1.0   0.0  0.989  0.011  0.000\n",
      "1       1.0   1.0  0.988  0.012  0.000\n",
      "2       1.0   2.0  0.986  0.014  0.000\n",
      "3       1.0   3.0  0.986  0.014  0.000\n",
      "4       1.0   4.0  0.985  0.014  0.001\n",
      "5       1.0   5.0  0.985  0.014  0.001\n",
      "6       1.0   6.0  0.984  0.015  0.001\n",
      "7       1.0   7.0  0.983  0.016  0.001\n",
      "8       1.0   8.0  0.980  0.019  0.001\n",
      "9       1.0   9.0  0.976  0.023  0.001\n",
      "10      1.0  10.0  0.974  0.025  0.001\n",
      "11      1.0  11.0  0.973  0.026  0.001\n",
      "12      1.0  12.0  0.969  0.030  0.001\n",
      "13      1.0  13.0  0.967  0.030  0.003\n",
      "14      1.0  14.0  0.963  0.034  0.003\n",
      "15      1.0  15.0  0.961  0.035  0.004\n",
      "16      1.0  16.0  0.960  0.035  0.005\n",
      "17      1.0  17.0  0.957  0.038  0.005\n",
      "18      1.0  18.0  0.953  0.042  0.005\n",
      "19      1.0  19.0  0.948  0.045  0.007\n",
      "20      1.0  20.0  0.942  0.051  0.007\n",
      "21      1.0  21.0  0.940  0.053  0.007\n",
      "22      1.0  22.0  0.937  0.056  0.007\n",
      "23      1.0  23.0  0.934  0.058  0.008\n",
      "24      1.0  24.0  0.930  0.062  0.008\n",
      "25      1.0  25.0  0.926  0.065  0.009\n",
      "26      1.0  26.0  0.918  0.072  0.010\n",
      "27      1.0  27.0  0.913  0.075  0.012\n",
      "28      1.0  28.0  0.910  0.078  0.012\n",
      "29      1.0  29.0  0.902  0.086  0.012\n",
      "...     ...   ...    ...    ...    ...\n",
      "7670  100.0  47.0  0.601  0.331  0.068\n",
      "7671  100.0  48.0  0.593  0.334  0.073\n",
      "7672  100.0  49.0  0.580  0.343  0.077\n",
      "7673  100.0  50.0  0.558  0.363  0.079\n",
      "7674  100.0  51.0  0.548  0.371  0.081\n",
      "7675  100.0  52.0  0.535  0.380  0.085\n",
      "7676  100.0  53.0  0.518  0.393  0.089\n",
      "7677  100.0  54.0  0.499  0.409  0.092\n",
      "7678  100.0  55.0  0.483  0.421  0.096\n",
      "7679  100.0  56.0  0.471  0.425  0.104\n",
      "7680  100.0  57.0  0.453  0.441  0.106\n",
      "7681  100.0  58.0  0.442  0.446  0.112\n",
      "7682  100.0  59.0  0.431  0.455  0.114\n",
      "7683  100.0  60.0  0.412  0.468  0.120\n",
      "7684  100.0  61.0  0.400  0.475  0.125\n",
      "7685  100.0  62.0  0.388  0.484  0.128\n",
      "7686  100.0  63.0  0.378  0.492  0.130\n",
      "7687  100.0  64.0  0.373  0.493  0.134\n",
      "7688  100.0  65.0  0.358  0.502  0.140\n",
      "7689  100.0  66.0  0.342  0.511  0.147\n",
      "7690  100.0  67.0  0.334  0.515  0.151\n",
      "7691  100.0  68.0  0.323  0.521  0.156\n",
      "7692  100.0  69.0  0.313  0.526  0.161\n",
      "7693  100.0  70.0  0.302  0.531  0.167\n",
      "7694  100.0  71.0  0.292  0.537  0.171\n",
      "7695  100.0  72.0  0.274  0.554  0.172\n",
      "7696  100.0  73.0  0.264  0.556  0.180\n",
      "7697  100.0  74.0  0.257  0.559  0.184\n",
      "7698  100.0  75.0  0.244  0.567  0.189\n",
      "7699  100.0  76.0  0.232  0.574  0.194\n",
      "\n",
      "[7700 rows x 5 columns]\n"
     ]
    }
   ],
   "source": [
    "P=pd.DataFrame(A,columns=['loc', 'day', 'S',\"I\",\"R\"])\n",
    "print(P)"
   ]
  },
  {
   "cell_type": "code",
   "execution_count": 10,
   "metadata": {},
   "outputs": [
    {
     "data": {
      "image/png": "[encoded data removed]",
      "text/plain": [
       "<Figure size 432x288 with 1 Axes>"
      ]
     },
     "metadata": {},
     "output_type": "display_data"
    }
   ],
   "source": [
    "P1=P.loc[P[\"loc\"]==1]\n",
    "plt.plot(P1[\"day\"],P1[\"I\"],P1[\"R\"])\n",
    "M=np.transpose(np.array([P1[\"day\"],P1[\"S\"],P1[\"I\"],P1[\"R\"]]))"
   ]
  },
  {
   "cell_type": "code",
   "execution_count": 11,
   "metadata": {},
   "outputs": [
    {
     "name": "stdout",
     "output_type": "stream",
     "text": [
      "0.989\n",
      "8.955537\n",
      "0.07648899222905339\n",
      "0.010423818737906498\n",
      "\n"
     ]
    }
   ],
   "source": [
    "beta=0 \n",
    "print(M[0,1])\n",
    "integral=M[:,1].dot(M[:,2])\n",
    "print(integral)\n",
    "beta=-(M[76,1]-M[0,1])/integral\n",
    "print(beta)\n",
    "integral=np.sum(M[:,2])\n",
    "gamma=(M[76,3]-M[0,3])/integral\n",
    "print(gamma)\n",
    "print()\n"
   ]
  },
  {
   "cell_type": "code",
   "execution_count": 89,
   "metadata": {},
   "outputs": [
    {
     "data": {
      "image/png": "[encoded data removed]",
      "text/plain": [
       "<Figure size 432x288 with 1 Axes>"
      ]
     },
     "metadata": {},
     "output_type": "display_data"
    }
   ],
   "source": [
    "p_M=np.ones(3) #parameter_matrix(beta,gamma,R)\n",
    "\n",
    "for i in range (1,101,1):\n",
    "    #selection of location i\n",
    "    P_i=P.loc[P[\"loc\"]==i]\n",
    "    M=np.transpose(np.array([P_i[\"day\"],P_i[\"S\"],P_i[\"I\"],P_i[\"R\"]]))\n",
    "    \n",
    "    #computation of beta and gamma\n",
    "    p=np.array([])\n",
    "    beta=-(M[76,1]-M[0,1])/(M[:,1].dot(M[:,2]))\n",
    "    p=np.append(p,beta)\n",
    "    gamma=(M[76,3]-M[0,3])/(np.sum(M[:,2]))\n",
    "    p=np.append(p,gamma)\n",
    "    R=beta/gamma\n",
    "    p=np.append(p,R)\n",
    "    p_M=np.vstack([p_M,p])\n",
    "\n",
    "p_M=np.delete(p_M,0,axis=0)\n",
    "\n",
    "\n",
    "plt.hist(p_M[:,2],12)\n",
    "plt.title(\"PDF of calculated $R_0$\")\n",
    "plt.savefig(\"R0_hist\",dpi=800)"
   ]
  },
  {
   "cell_type": "code",
   "execution_count": 90,
   "metadata": {},
   "outputs": [
    {
     "name": "stdout",
     "output_type": "stream",
     "text": [
      "La loc. con il maggioe R0 è: 68 con valore 10.042267404173991\n"
     ]
    }
   ],
   "source": [
    "l=list(p_M[:,2]>9.5)\n",
    "l.index(True)\n",
    "print(\"La loc. con il maggioe R0 è:\",l.index(True)+1,\"con valore\",p_M[l.index(True),2])"
   ]
  },
  {
   "cell_type": "code",
   "execution_count": 91,
   "metadata": {},
   "outputs": [
    {
     "name": "stdout",
     "output_type": "stream",
     "text": [
      "beta medio:  0.07507346089734118 +- 0.0026040449870519656\n",
      "gamma medio:  0.00971910766594186 +- 0.0007627979098948384\n",
      "R0 medio:  7.77156412496837 +- 0.6655055218325028\n"
     ]
    }
   ],
   "source": [
    "p_mean=np.mean(p_M,axis=0)\n",
    "p_std=np.std(p_M,axis=0)\n",
    "print(\"beta medio: \",p_mean[0],\"+-\",p_std[0])\n",
    "print(\"gamma medio: \",p_mean[1],\"+-\",p_std[1])\n",
    "print(\"R0 medio: \",p_mean[2],\"+-\",p_std[2])"
   ]
  },
  {
   "cell_type": "code",
   "execution_count": 92,
   "metadata": {},
   "outputs": [
    {
     "data": {
      "text/plain": [
       "array([0.00260404, 0.0007628 , 0.66550552])"
      ]
     },
     "execution_count": 92,
     "metadata": {},
     "output_type": "execute_result"
    }
   ],
   "source": [
    "np.std(p_M,axis=0)"
   ]
  },
  {
   "cell_type": "code",
   "execution_count": 101,
   "metadata": {},
   "outputs": [
    {
     "name": "stdout",
     "output_type": "stream",
     "text": [
      "0 -0.4336590680721759\n",
      "1 0.6152308956764418\n",
      "2 1.1265634884368563\n",
      "3 0.4573690705029936\n",
      "4 0.9719692790167453\n",
      "5 0.41633743203470885\n",
      "6 -0.1628776864211572\n",
      "7 -0.07629062669034514\n",
      "8 -0.9492361164616208\n",
      "9 -0.14145010232237976\n",
      "10 0.5226857729600525\n",
      "11 0.48385638806883335\n",
      "12 0.48884458508204887\n",
      "13 0.12114448184807713\n",
      "14 0.21771445613535612\n",
      "15 -0.5470567788852971\n",
      "16 1.2295138823815481\n",
      "17 -0.6747374201006577\n",
      "18 -0.8775580535968306\n",
      "19 -0.4476477936406962\n",
      "20 -0.5077047839376307\n",
      "21 1.1993726800605646\n",
      "22 0.19335571738140978\n",
      "23 0.8975748344164423\n",
      "24 0.1516218452581528\n",
      "25 0.1961080067843035\n",
      "26 0.5119376982066282\n",
      "27 -0.24673855955490076\n",
      "28 0.5645261635710739\n",
      "29 -0.013488062545445878\n",
      "30 1.2575038056988799\n",
      "31 0.17789839157504161\n",
      "32 0.3699002359786725\n",
      "33 -0.189064951049553\n",
      "34 -0.5679870965516747\n",
      "35 -0.3010072102380512\n",
      "36 0.4161213342264585\n",
      "37 -0.2784661559050461\n",
      "38 -0.00309198528542165\n",
      "39 -0.43520845408222186\n",
      "40 0.37059322771311365\n",
      "41 0.05046283586195521\n",
      "42 0.8973475015617414\n",
      "43 -0.32338513954586556\n",
      "44 -0.18897064928136498\n",
      "45 -0.03023298683358977\n",
      "46 0.03394206393703669\n",
      "47 -0.5962513667886045\n",
      "48 0.42654191704437494\n",
      "49 1.389679039965495\n",
      "50 -0.6204908305132246\n",
      "51 0.08120630273985352\n",
      "52 -0.33394890209914685\n",
      "53 0.3380173221008764\n",
      "54 -0.05693741178531386\n",
      "55 -0.8442849091246227\n",
      "56 -0.9518303329993234\n",
      "57 1.356352225760162\n",
      "58 -1.2442828984588186\n",
      "59 -0.2613300255940576\n",
      "60 0.03932525023544109\n",
      "61 -0.7745747249468975\n",
      "62 -1.0176328418507872\n",
      "63 0.8677995824890061\n",
      "64 -0.2996121440749393\n",
      "65 -0.5070258526201936\n",
      "66 -0.0793029770675977\n",
      "67 2.2707032792056214\n",
      "68 -0.8605400461745285\n",
      "69 1.3135497123142095\n",
      "70 -0.4179311716094851\n",
      "71 -0.09114016799165992\n",
      "72 -0.1577734410708267\n",
      "73 -0.6174795914714828\n",
      "74 -0.40133808467583254\n",
      "75 0.35220218258206515\n",
      "76 -0.7178580381384725\n",
      "77 -0.11108042475190949\n",
      "78 -0.4065429036726522\n",
      "79 -0.6710161064730036\n",
      "80 -0.6922557112223569\n",
      "81 -0.7281034992569202\n",
      "82 -0.6706402294182263\n",
      "83 0.4528906484343036\n",
      "84 -0.2095010449412369\n",
      "85 0.5781451499186456\n",
      "86 0.01436044372476264\n",
      "87 -0.9641431855820377\n",
      "88 0.4162527096533388\n",
      "89 -1.1352117068919574\n",
      "90 -0.5573839933765852\n",
      "91 -0.18214349326045376\n",
      "92 -0.342121344960451\n",
      "93 0.6134807337820085\n",
      "94 0.33215739843516623\n",
      "95 -0.6573478833950865\n",
      "96 1.1961628228864392\n",
      "97 0.6862614099112054\n",
      "98 -0.9340792202311414\n",
      "99 -0.1555880180663829\n",
      "7.748627728208717 0.6283020635690274\n"
     ]
    }
   ],
   "source": [
    "p_m=np.array([])\n",
    "for f in range(0,100,1):\n",
    "    print(f,p_M[f,2]-7.77156412496837)\n",
    "    if (np.abs(p_M[f,2]-p_mean[2])<3*0.6655055218325028):\n",
    "        p_m=np.append(p_m,p_M[f,2])\n",
    "print(np.mean(p_m),np.std(p_m))"
   ]
  },
  {
   "cell_type": "code",
   "execution_count": null,
   "metadata": {},
   "outputs": [],
   "source": []
  }
 ],
 "metadata": {
  "kernelspec": {
   "display_name": "Python 3",
   "language": "python",
   "name": "python3"
  },
  "language_info": {
   "codemirror_mode": {
    "name": "ipython",
    "version": 3
   },
   "file_extension": ".py",
   "mimetype": "text/x-python",
   "name": "python",
   "nbconvert_exporter": "python",
   "pygments_lexer": "ipython3",
   "version": "3.6.8"
  },
  "varInspector": {
   "cols": {
    "lenName": 16,
    "lenType": 16,
    "lenVar": 40
   },
   "kernels_config": {
    "python": {
     "delete_cmd_postfix": "",
     "delete_cmd_prefix": "del ",
     "library": "var_list.py",
     "varRefreshCmd": "print(var_dic_list())"
    },
    "r": {
     "delete_cmd_postfix": ") ",
     "delete_cmd_prefix": "rm(",
     "library": "var_list.r",
     "varRefreshCmd": "cat(var_dic_list()) "
    }
   },
   "types_to_exclude": [
    "module",
    "function",
    "builtin_function_or_method",
    "instance",
    "_Feature"
   ],
   "window_display": false
  }
 },
 "nbformat": 4,
 "nbformat_minor": 2
}
